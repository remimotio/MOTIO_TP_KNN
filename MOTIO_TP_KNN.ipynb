{
 "cells": [
  {
   "cell_type": "markdown",
   "id": "d6404596",
   "metadata": {},
   "source": [
    "ROB311 - TP n°3 - KNN for Facial Expression Detection"
   ]
  },
  {
   "cell_type": "markdown",
   "id": "6560fe5e",
   "metadata": {},
   "source": [
    "Introduction to the task\n",
    "\n",
    "---\n",
    "\n",
    "The objective of this task is to sort out a dataset of size 48 x 48 pixel grayscale images depicting human expressions. \n",
    "\n",
    "After extracting features through the Local Binary Patterns (LBP) method, the images from the FER-2013 dataset will be classified in seven categories of emotions with a KNN-Classifier. "
   ]
  },
  {
   "cell_type": "markdown",
   "id": "82cd7c8c",
   "metadata": {},
   "source": [
    "Principles\n",
    "\n",
    "---\n",
    "\n",
    "° The Facial Expression Recognition (FER) 2013 Dataset contains around 30,000 labeled 48 x 48 pixel grayscale images depicting human expressions, that can be classified into seven categories:\n",
    "\n",
    "0 - Angry; 1 - Disgust; 2 - Fear; 3 - Happy; 4 - Sad; 5 - Surprise ; 6 - Neutral\n",
    "\n",
    "This dataset is widely used in the field of facial expression recognition. \n",
    "\n",
    "° The Local Binary Patterns method consists in thresholding the neighbourhood of each pixel (that is to say, its 8 neighbors). The threshold value being the value of the considered pixel, neighbors with a value inferior to the threshold are assigned the value 0 while the others are assigned the value 1. After converting the resulting binary number of 8 bits into an integer, its value is assigned to the considered pixel and is called the LBP value of the pixel. \n",
    "\n",
    "For an image, the LBP method consists in dividing the image into blocks, calculating the LBP value of each of its pixels, and represent these values in a histogram for each block. Then, all of these histograms are concatenated in a feature vector. \n",
    "\n",
    "° KNN:\n",
    "\n",
    "Once every image is translated into a feature vector, the images can be represented in a \"feature space\", where each image is a point while the different types of features are the axes. As a result, images with similar features form groups in the feature space. \n",
    "\n",
    "To classify correctly a new, unlabeled image, we use the LBP method to translate the image into a feature vector, that is to say, a new point in the feature space. \n",
    "\n",
    "Then, we use the KNN method, where KNN stands for \"K Nearest Neighbors\", with K being chosen as the number of nearest neighbors to consider for the request. We calculate a distance (for instance a Euclidean distance) between the new point and all the other labeled points, and pick the K nearest points. A vote is held between the labels of these K points, and the label with the majority is finally chosen as the label of our new image."
   ]
  },
  {
   "cell_type": "markdown",
   "id": "e145c5e0",
   "metadata": {},
   "source": [
    "Description of the code\n",
    "\n",
    "---\n",
    "\n",
    "Five functions compose the following code:\n",
    "\n",
    "° \"lecture\" allows to:\n",
    "\n",
    "- Convert each image of a given folder into a feature vector through the LBP method. These feature vectors are saved in a list containing arrays, called data. \n",
    "- Save the label associated to the image in a list: 0 for \"Angry\", 1 for \"Disgust\", 2 for \"Fear\", 3 for \"Happy\", 4 for \"Sad\", 5 for \"Surprise\" and 6 for \"Neutral\"\n",
    "\n",
    "° \"repertoire_train\" creates the lists X_train and y_train:\n",
    "\n",
    "- X_train contains the histograms associated with the images reserved for training\n",
    "- y_train contains the labels of these images\n",
    "\n",
    "° \"repertoire_test\" creates the lists X_test and y_test:\n",
    "\n",
    "- X_test contains the histograms associated with the images reserved for testing\n",
    "- y_test contains the labels of these images\n",
    "\n",
    "X_test and y_test allow us to evaluate the performances of the recognition algorithm on data it has not yet seen.\n",
    "\n",
    "° \"LBP\" assigns each image the corresponding LBP histogram.\n",
    "\n",
    "° \"classification\" applies the KNN method to X_train, y_train, X_test dans y_test:\n",
    "\n",
    "- It creates a class \"knn\" that contains the KNN Classifier\n",
    "- Then, the fit function trains the model on X_train and y_train : it distinguishes the different features in the data and helps the model associate them different parameters.\n",
    "- Once our model is trained, it is able to make a prediction on X_test\n",
    "- \"accuracy\" compares the predicted labels y_pred with the true labels y_train"
   ]
  },
  {
   "cell_type": "code",
   "execution_count": 92,
   "id": "1c45dee7",
   "metadata": {},
   "outputs": [],
   "source": [
    "#!/usr/bin/env python3\n",
    "# -*- coding: utf-8 -*-\n",
    "\n",
    "\"\"\"\n",
    "Created on Mon Oct  9 08:56:37 2023\n",
    "\n",
    "@author: remimotio\n",
    "\n",
    "ROB311 - Apprentissage pour la robotique \n",
    "\n",
    "TP : Facial Expression Classification\n",
    "\n",
    "\"\"\"\n",
    "\n",
    "import os\n",
    "\n",
    "import skimage as ski\n",
    "\n",
    "from skimage.feature import local_binary_pattern\n",
    "\n",
    "from sklearn.neighbors import KNeighborsClassifier\n",
    "\n",
    "from sklearn import metrics\n",
    "\n",
    "PATH_TRAIN = './archive/train/'\n",
    "\n",
    "train = os.listdir(PATH_TRAIN) # train est un tableau contenant les sept mots désignant les catégories d'expressions faciales\n",
    "\n",
    "def lecture(folder, data, labels, label):\n",
    "    dossier = os.listdir(folder)\n",
    "    for img in dossier :\n",
    "        image_path = os.path.join(folder, img)\n",
    "        image = ski.io.imread(image_path)\n",
    "        features = LBP(image)\n",
    "        data.append(features.flatten())\n",
    "        labels.append(label)\n",
    "    return data, labels\n",
    "        \n",
    "def repertoire_train():\n",
    "    folder_angry = './archive/train/angry'\n",
    "    folder_disgust = './archive/train/disgust'\n",
    "    folder_fear = './archive/train/fear'\n",
    "    folder_happy = './archive/train/happy'\n",
    "    folder_neutral = './archive/train/neutral'\n",
    "    folder_sad = './archive/train/sad'\n",
    "    folder_surprise = './archive/train/surprise'\n",
    "    X_train = []\n",
    "    y_train = []\n",
    "    X_train, y_train = lecture(folder_angry, X_train, y_train, 0)\n",
    "    X_train, y_train = lecture(folder_disgust, X_train, y_train, 1)\n",
    "    X_train, y_train = lecture(folder_fear, X_train, y_train, 2)\n",
    "    X_train, y_train = lecture(folder_happy, X_train, y_train, 3)\n",
    "    X_train, y_train = lecture(folder_neutral, X_train, y_train, 4)\n",
    "    X_train, y_train = lecture(folder_sad, X_train, y_train, 5)\n",
    "    X_train, y_train = lecture(folder_surprise, X_train, y_train, 6)\n",
    "    return X_train, y_train\n",
    "\n",
    "def repertoire_test():\n",
    "    folder_angry = './archive/test/angry'\n",
    "    folder_disgust = './archive/test/disgust'\n",
    "    folder_fear = './archive/train/fear'\n",
    "    folder_happy = './archive/train/happy'\n",
    "    folder_neutral = './archive/train/neutral'\n",
    "    folder_sad = './archive/train/sad'\n",
    "    folder_surprise = './archive/train/surprise'\n",
    "    X_test = []\n",
    "    y_test = []\n",
    "    X_test, y_test = lecture(folder_angry, X_test, y_test, 0)\n",
    "    X_test, y_test = lecture(folder_disgust, X_test, y_test, 1)\n",
    "    X_test, y_test = lecture(folder_fear, X_test, y_test, 2)\n",
    "    X_test, y_test = lecture(folder_happy, X_test, y_test, 3)\n",
    "    X_test, y_test = lecture(folder_neutral, X_test, y_test, 4)\n",
    "    X_test, y_test = lecture(folder_sad, X_test, y_test, 5)\n",
    "    X_test, y_test = lecture(folder_surprise, X_test, y_test, 6)\n",
    "    return X_test, y_test\n",
    "\n",
    "def LBP(image):\n",
    "    radius = 2 \n",
    "    n_points = 8 * radius\n",
    "    lbp = local_binary_pattern(image, n_points, radius)\n",
    "    return lbp\n",
    "\n",
    "def classification(X_train, y_train, X_test, y_test):\n",
    "    knn = KNeighborsClassifier(n_neighbors=5)\n",
    "    knn.fit(X_train, y_train)\n",
    "    y_pred = knn.predict(X_test)\n",
    "    accuracy = metrics.accuracy_score(y_test, y_pred)\n",
    "    return accuracy"
   ]
  },
  {
   "cell_type": "code",
   "execution_count": null,
   "id": "01ccc183",
   "metadata": {
    "scrolled": false
   },
   "outputs": [],
   "source": [
    "X_train, y_train = repertoire_train()"
   ]
  },
  {
   "cell_type": "code",
   "execution_count": null,
   "id": "5c3e60db",
   "metadata": {},
   "outputs": [],
   "source": [
    "X_test, y_test = repertoire_test()"
   ]
  },
  {
   "cell_type": "code",
   "execution_count": null,
   "id": "f484ab02",
   "metadata": {
    "scrolled": true
   },
   "outputs": [],
   "source": [
    "classification(X_train, y_train, X_test, y_test)"
   ]
  },
  {
   "cell_type": "markdown",
   "id": "4a1e796b",
   "metadata": {},
   "source": [
    "Results\n",
    "\n",
    "---\n",
    "\n",
    "We can able the folders one at a time to evaluate the performances of the algorithm:\n",
    "\n",
    "- With only the \"angry\" folder given to X_train and X_test, we obtain the expected accuracy of 1.0 \n",
    "- With \"angry\" and \"disgust\", we obtain an accuracy of 0.8811973807296539\n",
    "- Adding \"fear\", we reach 0.705187766163376\n",
    "- With \"happy\", the accuracy is 0.7193280025846055\n",
    "- With \"neutral\", it is 0.657961489680618\n",
    "- Adding \"sad\", the accuracy is 0.5903679653679653\n",
    "- And finally, with all seven emotions, we obtain an accuracy of 0.5835404584368958\n",
    "\n",
    "After numerous trials, it appears that having radius = 2 and n_points = 8 * radius provides us with the best performance on this data. According to python, n_points represents the number of circularly symmetric neighbour set points, while radius is the spatial resolution of the operator. "
   ]
  },
  {
   "cell_type": "markdown",
   "id": "bd92cc58",
   "metadata": {},
   "source": [
    "Analysis\n",
    "\n",
    "---\n",
    "\n",
    "The combination of the LBP and KNN methods provide a performing facial expression recognition algorithm, with a competitive accuracy on a large dataset such as FER-2013.\n",
    "\n",
    "Nonetheless, these performances could still be improved, through various means:\n",
    "\n",
    "1. The computation time of the algorithm is still high, and might be reduced by reorganizing the algorithm.\n",
    "\n",
    "2. In some applications, an accuracy of 58 % might not be sufficient, and could justify using different methods, or combining the one presented here with other algorithms. \n",
    "\n",
    "3. An improved training would be likely improve the performances of the algorithm. However, optimizing the training, in particular the dataset provided to the algorithm to train, demands knowledge and efforts. Moreover, the context of use must be taken into account to provide adequate training."
   ]
  }
 ],
 "metadata": {
  "kernelspec": {
   "display_name": "Python 3 (ipykernel)",
   "language": "python",
   "name": "python3"
  },
  "language_info": {
   "codemirror_mode": {
    "name": "ipython",
    "version": 3
   },
   "file_extension": ".py",
   "mimetype": "text/x-python",
   "name": "python",
   "nbconvert_exporter": "python",
   "pygments_lexer": "ipython3",
   "version": "3.8.16"
  }
 },
 "nbformat": 4,
 "nbformat_minor": 5
}
